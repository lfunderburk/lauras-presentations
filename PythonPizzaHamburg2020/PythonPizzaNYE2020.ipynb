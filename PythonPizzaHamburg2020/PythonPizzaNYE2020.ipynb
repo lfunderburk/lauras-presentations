{
 "cells": [
  {
   "cell_type": "markdown",
   "metadata": {
    "slideshow": {
     "slide_type": "slide"
    }
   },
   "source": [
    "<center><img src=\"https://encrypted-tbn0.gstatic.com/images?q=tbn:ANd9GcS_BwBSeQfy-6c8I2k026cqquOreUdCU_zwrQ&usqp=CAU\" alt=\"Drawing\" style=\"width: 300px;\"/></center>\n",
    "\n",
    "<h1 align='center'>Staying sane while coding away</h1>\n",
    "\n",
    "<h2 align='center'>...or how I learned to practice self care as a developer</h2>\n",
    "\n",
    "\n",
    "\n",
    "<h4 align='center'>Python Pizza New Year's Party</h4>\n",
    "\n",
    "<h4 align='center'>Laura Gutierrez Funderburk</h4>\n",
    "\n",
    "<h4 align='center'><a href='https://twitter.com/LGFunderburk'>@LGFunderburk</h4>\n",
    "    "
   ]
  },
  {
   "cell_type": "markdown",
   "metadata": {
    "slideshow": {
     "slide_type": "slide"
    }
   },
   "source": [
    "<h2 align='center'>Overview</h2>\n",
    "\n",
    "- How I learned to do self care\n",
    "\n",
    "- Self-care principles I live by (with Minecraft screenshots from my local server, Windows Bedrock Edition 1.16.201 and Windows Bedrock Edition 1.16.200)\n",
    "\n",
    "- How self care helps my productivity\n",
    "\n",
    "- Favourite lockdown recipes"
   ]
  },
  {
   "cell_type": "markdown",
   "metadata": {
    "slideshow": {
     "slide_type": "slide"
    }
   },
   "source": [
    "<h2 align='center'>How I learned to do self care</h2>\n",
    "\n",
    "<center><img src=\"https://i0.wp.com/www.gamesbap.com/wp-content/uploads/2020/09/Minecraft-Bee.jpg?fit=1024%2C576&ssl=1\" alt=\"Drawing\" style=\"width: 500px;\"/></center>\n",
    "\n",
    "\n",
    "\n",
    "<h3 align='center'>In a nutshell: the hard way</h3>\n",
    "\n",
    "It took me a few years to transition from work-until-I-wore-myself-down, to the more balanced approach I follow today. \n",
    "\n",
    "I was lucky I started taking steps when my burn-out was still reversible (this is not always the case).\n"
   ]
  },
  {
   "cell_type": "markdown",
   "metadata": {
    "slideshow": {
     "slide_type": "subslide"
    }
   },
   "source": [
    "<h2 align='center'>How I learned to do self care</h2>\n",
    "\n",
    "<center><img src=\"https://i0.wp.com/www.gamesbap.com/wp-content/uploads/2020/09/Minecraft-Bee.jpg?fit=1024%2C576&ssl=1\" alt=\"Drawing\" style=\"width: 500px;\"/></center>\n",
    "\n",
    "\n",
    "Step 1. Identify what is important to keep me happy: \n",
    "\n",
    "    Exercise, good sleep, access to alone time, bodies of water, space.\n",
    "\n",
    "Step 2. Identify what I can do to incorporate them into my routine.\n",
    "\n",
    "\n",
    "Step 3. Execute \n",
    "\n",
    "    Harder said than done! I learned forgiveness is part of the process to\n",
    "    incorporate a new element to my routine.\n"
   ]
  },
  {
   "cell_type": "markdown",
   "metadata": {
    "slideshow": {
     "slide_type": "subslide"
    }
   },
   "source": [
    "<h2 align='center'>How I learned to do self care</h2>\n",
    "\n",
    "<center><img src=\"https://i0.wp.com/www.gamesbap.com/wp-content/uploads/2020/09/Minecraft-Bee.jpg?fit=1024%2C576&ssl=1\" alt=\"Drawing\" style=\"width: 500px;\"/></center>\n",
    "\n",
    "\n",
    "\n",
    "Step 4. Listen to my body \n",
    "\n",
    "    If I don't feel like exercising today because I am tired or sick, I don't.\n",
    "    That is ok. I trust I will pick up when I feel better. \n",
    "    \n",
    "Step 5. Build trust with myself\n",
    "\n",
    "    There are times I need to push myself. I can go through hardship because I\n",
    "    have taught my body I will make time to recover. \n"
   ]
  },
  {
   "cell_type": "markdown",
   "metadata": {
    "slideshow": {
     "slide_type": "slide"
    }
   },
   "source": [
    "<h2 align='center'>Self care principles I live by as a remote worker</h2>\n",
    "\n",
    "<center><img src=\"https://i0.wp.com/www.gamesbap.com/wp-content/uploads/2020/09/Minecraft-Bee.jpg?fit=1024%2C576&ssl=1\" alt=\"Drawing\" style=\"width: 500px;\"/></center>\n"
   ]
  },
  {
   "cell_type": "markdown",
   "metadata": {
    "slideshow": {
     "slide_type": "subslide"
    }
   },
   "source": [
    "<h2 align='center'>Principle I: Keep space organized (bonus points for a comfortable space)</h2>\n",
    "\n",
    "<center><img src=\"https://previews.dropbox.com/p/thumb/ABDxVOVJbHyHzOSfxyBkq6rzIaAPBuFXkJXBttxqn0fWkfRPgibCjwa1p_gdOEiQBazoc-R6Wg3_dop5LCuIJiS-cXO1-FvEoUYsZoskLldR49g6j2kpK_X99j2R7sSjtgCrUaxm8-HuEIE3szkIR1aBrxdIWZznj-y-w2qnoUGBj24txAEONl_Q2acOTbUDLDUm2RzOLP3lRBAC9hEsFqKWlf7MgcEYeGAhJltN1NKFRmfY78ibCCl7M-b5HGwEFM_k3iIXjRPksu7esU4OopXC3nn9trnzZKH-48t9eiZpNXt80F5iyowaEwbpMMrV2KsSvZ87iuGuoBSpudqWSFLXjRehxMCOwiSPtDU0whLkCA/p.png?fv_content=true&size_mode=5\" alt=\"Drawing\" style=\"width: 1200px;\"/></center>\n",
    "\n",
    "Minecraft, Windows Bedrock Edition 1.16.201\n",
    "\n"
   ]
  },
  {
   "cell_type": "markdown",
   "metadata": {
    "slideshow": {
     "slide_type": "subslide"
    }
   },
   "source": [
    "<h2 align='center'>During lockdown this means for me</h2>\n",
    "\n",
    "- Using light projectors and colored light bulbs on evenings and weekends - changes the space's mood and feel \n",
    "\n",
    "- Keep work area separate from rest area \n",
    "\n",
    "- Taking bubble baths \n",
    "\n",
    "- Setting up and sticking to cleaning routine schedule "
   ]
  },
  {
   "cell_type": "markdown",
   "metadata": {
    "slideshow": {
     "slide_type": "subslide"
    }
   },
   "source": [
    "<h2 align='center'>Principle II: Identify what aspects of routine can be optimized </h2>\n",
    "\n",
    "<center><img src=\"https://previews.dropbox.com/p/thumb/ABCC1fK-MQVzlWw1NqPAJUyRi_qk76YImyQK2TrQZNvN4IPM1fw6ryNrVhdRCby4i9AUhzHtWnHxgu3w72816X6d67qWmeoTrqfdZ_nEMhI9ouR5ZQkiHNzp0IwXUUbYVKXXt3btkg9WeI0HkFz2GN0JbLV7ymtWfx9ntvRiL3EQDTarVh1qnLpZIt8GZ8laX8s8b4oVFSuwHp-BdSXafexpmGfVXOWcKi69jn9byZnlBMBmSPgsOUtxzgotiXNAaakTo3Oc_rj_qXGcsYj6aml1BuAxMJKgnmxqzvrdZFWR_6YU7Mkj7kpdwIVUHBDq0RyMo4En11zmMZU-A1YQOyv0wCPZYZfikx0BbPr8gLkkOA/p.png?fv_content=true&size_mode=5\" alt=\"Drawing\" style=\"width: 1200px;\"/></center>\n",
    "\n",
    "Minecraft, Windows Bedrock Edition 1.16.201"
   ]
  },
  {
   "cell_type": "markdown",
   "metadata": {
    "slideshow": {
     "slide_type": "subslide"
    }
   },
   "source": [
    "<h2 align='center'>During lockdown this means for me</h2>\n",
    "\n",
    "- Make hearty meals in batches (one batch for lunch, another one for dinner) -- see bonus section in this talk!\n",
    "\n",
    "- Prep everything that's needed to make space feel ready the day before or during weekend \n",
    "\n",
    "- Tackle back burner tasks as soon as possible - they use energy and can be draining (taxes, emails, etc)\n",
    "\n",
    "- Selecting a time of day when I can exercise: require sunlight and ok weather"
   ]
  },
  {
   "cell_type": "markdown",
   "metadata": {
    "slideshow": {
     "slide_type": "subslide"
    }
   },
   "source": [
    "<h2 align='center'>Principle III: Learn to leverage the expertise of people around me (and let them leverage mine)</h2>\n",
    "\n",
    "<center><img src=\"https://previews.dropbox.com/p/thumb/ABCke458uvSMj-mPTGwI6nmWBRoZqIbJ9VTr2eqHmryZWbBTXUPu0xkeQpadLWSFmULGTOJ8gLPO4JZ-LWa7QwvDN1epJHD_tWGGYZ5DX6PguYIDYRfv0VzXFkOhl-voduPHvnutKUsDt6un75lN7cgORlK12KGYwkFHyZylE9M_toFzJ7yy2mcfa7DlBSvwa0eNMmSNJNJ42dUT3OfMHGtKP_SJodkTSkPgEycktEIyqfagKZwlFxu-K8kgaQSN45yUnEVKjxY6vwtoW7_DysXkk91f9pCMJdFFd5udev-_vgAesqKSSEJ4RI03drXrac52jDfDF-EzrAaLTwOiCbjepxdx15f0hqfZ8zxJEL7qHQ/p.png?fv_content=true&size_mode=5\" alt=\"Drawing\" style=\"width: 1200px;\"/></center>\n",
    "\n",
    "Minecraft, Windows Bedrock Edition 1.16.201"
   ]
  },
  {
   "cell_type": "markdown",
   "metadata": {
    "slideshow": {
     "slide_type": "subslide"
    }
   },
   "source": [
    "<h2 align='center'>During lockdown this means for me</h2>\n",
    "\n",
    "- Evaluate and identify goals and causes I care about along with strengths and weaknesses. \n",
    "\n",
    "- Identify what I can offer and who in my network would benefit from my skills, and when struggling identify who I can ask for help (put myself out there). \n",
    "\n",
    "- During lockdown this meant working towards finding ways to remain connected with colleagues via email, telephone, instant messaging platforms as well as online conferences and events.\n",
    "\n"
   ]
  },
  {
   "cell_type": "markdown",
   "metadata": {
    "slideshow": {
     "slide_type": "subslide"
    }
   },
   "source": [
    "<h2 align='center'>Principle IV: Practice gratitude</h2>\n",
    "\n",
    "<center><img src=\"https://previews.dropbox.com/p/thumb/ABA4iAIEbuFbEIxNc0qg-egvIbb8c7oGpFjlwf-P6-N35CcJQ7xblOeplwsx_S5TYd0bKVgTbIxiPD4W7WXbKR_mpxBSmQWtQiWEp68t953Hj3awU2uepiGCl8GMMsd8GCcRGzg8KmlBMKSGQ0Av97PxFxdMKd87dqXhXLWgHrVI5ZVqMIZo-iljR-ruOWEujAksVvmdl96Shrp-29LXbKvZwrlPKql0wZTnOyUBKwJGBG7y2EGnrl60at51i5kfh4FnCttanDtU_koDWwIPvZZTLEm86xKhJmMmeciKGki8ZzL9Z3scHd-YRuLW_J9cpz9K41swxaXciDIhqqQFIg0X76Fr8s06yJ8f_QlqCsqYIQ/p.png?fv_content=true&size_mode=5\" alt=\"Drawing\" style=\"width: 1200px;\"/></center>\n",
    "\n",
    "Minecraft, Windows Bedrock Edition 1.16.201"
   ]
  },
  {
   "cell_type": "markdown",
   "metadata": {
    "slideshow": {
     "slide_type": "subslide"
    }
   },
   "source": [
    "<h2 align='center'>During lockdown this means for me</h2>\n",
    "\n",
    "- Volunteer for online conferences, as well as PyLadies and Python events.\n",
    "\n",
    "- Say thank you, whether online, via phone, or in person as conditions allow. \n",
    "\n",
    "- Accept difficult situations for what they are, and place attention on those areas that are working positively. \n",
    "\n",
    "- Vocalize what I am grateful for. \n"
   ]
  },
  {
   "cell_type": "markdown",
   "metadata": {
    "slideshow": {
     "slide_type": "subslide"
    }
   },
   "source": [
    "<h2 align='center'>Principle V: Make quality time for loved ones</h2>\n",
    "\n",
    "<center><img src=\"https://previews.dropbox.com/p/thumb/ABBd67LpRkNS94XkKPKiYFDfBcxZUuJpEXhPOUcvWdS3-JLBKQs0IyD44ecQZcD5yLrcA-3XAWzWZHujN18qCXAQ1itD2vNZLOlWUYxkCblJMt3a7WQ4iYaprNzFeJkOgFSWUK19yHMRP4vwkKyknTiBWsojVGdh7qT__FQ1ac4rj8SdWoRP1Zt3gFF1amVPKhGjk0YrFSvlKtL7cVOaBT8c-cOvYlHMioIl5w_Qj2Wgjashy27Ux5eurAek0hey6l5eDvr__Wf1QQpUiNwrflRZNcjRf37FttENgAmhxUoTIa4GRp_1iOb78qUDeScii7TTGvYNSxQLSX4Nc5Tlfd8JAQKZI2AvTTTqo1i9J6-q4Q/p.png?fv_content=true&size_mode=5\" alt=\"Drawing\" style=\"width: 1200px;\"/></center>\n",
    "\n",
    "Minecraft, Windows Bedrock Edition 1.16.201"
   ]
  },
  {
   "cell_type": "markdown",
   "metadata": {
    "slideshow": {
     "slide_type": "subslide"
    }
   },
   "source": [
    "<h2 align='center'>During lockdown this means for me:</h2>\n",
    "\n",
    "- Call family and friends.\n",
    "\n",
    "- Go for walks in nature with others.\n",
    "\n",
    "- Cook for others. "
   ]
  },
  {
   "cell_type": "markdown",
   "metadata": {
    "slideshow": {
     "slide_type": "subslide"
    }
   },
   "source": [
    "<h2 align='center'>Principle VI: Report and, most importantly, work on bugs (not just your code's bugs!)</h2>\n",
    "\n",
    "<center><img src=\"https://previews.dropbox.com/p/thumb/ABAvW1frOQiaj1yDHeFWSFNxyHd2cuclOM69sopGNKmFYv1LctPVfWqO6WhVJC4-7qeHJmQ3aObQQBZp2NljxZckIA0o9Y1VC6EicHhjoYaAxX-j4tnsOyD3DWZEAKCmkwvaITSb6RH4VRa191OwgCYG08rqdB8A-b0e-9eqcpm-cxuBrpob8A5jqOuVqJEyoymNHnnZCDdd3lXEr3YRhrUw_toTRQh8GvPJU3qIsuzBxkJofVXM4cG5XmgvnoC2MqaDbSXh5mly6-kMobM3DX5-cXvHS0ITwygoFf8nHBPZPlkSVLG5UshFh8bfgudi96KHTL7WtLvwQRrjGBdhUrjRBlQkJp7Md12PTTGjAhXdwg/p.png?fv_content=true&size_mode=5\" alt=\"Drawing\" style=\"width: 1200px;\"/></center>\n",
    "\n",
    "Minecraft, Windows Bedrock Edition 1.16.200"
   ]
  },
  {
   "cell_type": "markdown",
   "metadata": {
    "slideshow": {
     "slide_type": "subslide"
    }
   },
   "source": [
    "<h2 align='center'>During lockdown this means for me</h2>\n",
    "\n",
    "- Identify when a situation in life is not working as desired. Brainstorm what can be done to improve it. I go to therapy to help identify situations in my life that need attention.\n",
    "\n",
    "- Collaborate with friends or colleagues to find a solution. Schedule a video call or phone call for delicate conversations if I cannot talk to someone in person. \n",
    "\n",
    "- Apologize when I make mistakes, modify my behaviour as needed.  \n",
    "\n",
    "- (Yes, do spend time fixing code's bugs. Prevent bugs whenever possible).\n"
   ]
  },
  {
   "cell_type": "markdown",
   "metadata": {
    "slideshow": {
     "slide_type": "subslide"
    }
   },
   "source": [
    "<h2 align='center'>Principle VII: Dedicate one day a week away from the computer</h2>\n",
    "\n",
    "<center><img src=\"https://previews.dropbox.com/p/thumb/ABDzZr8DgfwaRn5ODtsSDnAoTZ0HechjJ5SqRaLmlVJoo9itRG-lECJq917GGRAw2MimGf2dWgEDGJzoyoGuyh2Szsqu7meEWDwSqevsq_MYKlKc299P6sf67pFMMjReNPQpv8x0oxmADcadFMPjLGUjPYi5NY_q9Tl46xYvdQHKRNWNq282P8nk7OM4h66yGb_O1t5KdIic7GMpS09dBgBsNEB1T8cbFCwwyEcjLDQWq3s1I7eg2GRmm-PsBKBA1ai3hJu52TDrheYLnf5KKwQnS_Q6Su0ecZwvIBnFEn7Vw7ETEndRBSTcq_tpqv7WLs0-GK0t0Kpa2hF8h6fG3zYRNUe8XKiF6w4RBxseQbeRmA0hwi_tmO86crF2gM_EiYqRFz5vYQyPl4pcdoSyO-yTS4wfHKcE9jpOa7Bu3CDvsMeqFX929lAT4GtXiX-Ke34/p.jpeg?fv_content=true&size_mode=5\" alt=\"Drawing\" style=\"width: 1000px;\"/></center>\n",
    "\n",
    "\n",
    "\n"
   ]
  },
  {
   "cell_type": "markdown",
   "metadata": {
    "slideshow": {
     "slide_type": "subslide"
    }
   },
   "source": [
    "<h2 align='center'>(If I can dedicate two days a week, even better)</h2>\n",
    "\n",
    "\n",
    "<center><img src=\"https://previews.dropbox.com/p/thumb/ABCJJkIy0aJXG_rlmN_8RECmQ29sderhe2ZgdpdWwdh5qto4SYvd-BoPM4B1o0Nn2hlSh30XKKNUe3O-QqfgL_IEtGzbhKHQ1ryhlDEd0febF8A3KGQpnRLrTSCelFgep5hrSZQ71X5l_wkxViclwohOr7v4S32fcyKytysVUpKOSE_MS025MKkGP1fs_7j4iHEAVgqCjnHX8Kia_P6SzqPQkK2pnZyTRSMgqYGMQCdHiI04ETeqbxopchpvYx1FLNUrIaqdz5zF1GTLS7M_zhLYSC-qt3M9xpoNRqHsZcppAX_X6Hk2SKwEIKspVjGCzIuAuA6VSBSmqJM_H5wGs_0BHP7Idv3sT-mlm2gwuDFW0gm1QvND0ShOb2RcopZvrWiZJX-TuKbdkKq0plYOBDZ7q9-lTgIs0zFsAbu933vVPqvDSrBlvhhIC5Dxl9e_lyA/p.jpeg?fv_content=true&size_mode=5\" alt=\"Drawing\" style=\"width: 1000px;\"/></center>"
   ]
  },
  {
   "cell_type": "markdown",
   "metadata": {
    "slideshow": {
     "slide_type": "subslide"
    }
   },
   "source": [
    "<h2 align='center'>During lockdown this means for me</h2>\n",
    "\n",
    "- Relocated to an area close to nature to facilitate walks outdoors.\n",
    "- Monitor the weather and adapt to sunlight (go out when it's not pouring).\n",
    "- Have a \"spa day\" at home.\n",
    "- Use this time to do my cleaning, cooking and spend quality time with loved ones.\n",
    "- Read (working on increasing how many books I read a year).\n",
    "\n"
   ]
  },
  {
   "cell_type": "markdown",
   "metadata": {
    "slideshow": {
     "slide_type": "slide"
    }
   },
   "source": [
    "<h2 align='center'> How self care helps my productivity</h2>\n",
    "\n",
    "<center><img src=\"https://i0.wp.com/www.gamesbap.com/wp-content/uploads/2020/09/Minecraft-Bee.jpg?fit=1024%2C576&ssl=1\" alt=\"Drawing\" style=\"width: 500px;\"/></center>\n",
    "\n",
    "- Keeps me motivated\n",
    "\n",
    "- Allows me to push myself and go above and beyond\n",
    "\n",
    "- Allows me to decompress and rest after a sprint\n",
    "\n",
    "- Stimulates my creativity\n",
    "\n",
    "- Creates a sense of life meaning (which I can then bring into my work) "
   ]
  },
  {
   "cell_type": "markdown",
   "metadata": {
    "slideshow": {
     "slide_type": "slide"
    }
   },
   "source": [
    "<center><img src=\"https://encrypted-tbn0.gstatic.com/images?q=tbn:ANd9GcS_BwBSeQfy-6c8I2k026cqquOreUdCU_zwrQ&usqp=CAU\" alt=\"Drawing\" style=\"width: 300px;\"/></center>\n",
    "\n",
    "<h1 align='center'>Thank You for having me as a speaker at Python Pizza!</h1>\n",
    "\n",
    "<h4 align='center'>If you'd like to chat some more, you can find me on Twitter</h4>\n",
    "\n",
    "<h4 align='center'><a href='https://twitter.com/LGFunderburk'>@LGFunderburk</h4>"
   ]
  },
  {
   "cell_type": "markdown",
   "metadata": {
    "slideshow": {
     "slide_type": "skip"
    }
   },
   "source": [
    "<h2 align='center'>Screenshots and references</h2>\n",
    "\n",
    "All screenshots"
   ]
  },
  {
   "cell_type": "markdown",
   "metadata": {
    "slideshow": {
     "slide_type": "slide"
    }
   },
   "source": [
    "<h2 align='center'> Bonus: Favourite Lockdown recipes</h2>\n",
    "\n",
    "<center><img src=\"https://i0.wp.com/www.gamesbap.com/wp-content/uploads/2020/09/Minecraft-Bee.jpg?fit=1024%2C576&ssl=1\" alt=\"Drawing\" style=\"width: 500px;\"/></center>"
   ]
  },
  {
   "cell_type": "markdown",
   "metadata": {
    "slideshow": {
     "slide_type": "subslide"
    }
   },
   "source": [
    "<h2 align='center'>Americano Misto</h2>\n",
    "\n",
    "<center><img src=\"https://previews.dropbox.com/p/thumb/ABDBNG1CoInMTmtcU7abqUA1m2eEoQdjSPF0aa0LFYTO8hv6-s99dsgq6vItsfUF7T45ohSFQtYXc-JJ9bCREksI9r8MDMqQK6CY7BXB7CLFe7K1SSRjSglcwpQX4UiqnLFcJuMjqpZT4mLAOQUWfSkx0vZJMkb4whrSrdUDnZv4DB01Pk9CRyMXFO2yjV889-9Ea-BM9P18ou8Jh1HfmglXTZ-s5uEktaK15U2Euz6szN7O3_dzKL7fR9kvkJ6HtD5OvVzr-M2HbROSeZ1gt0S68WqwfbZ-gFjf3JMOC17nO7Dy5z6s6aG8kX3v18zn6YoqYGD96A0NbFjP9Gh09dFUwUb6pWdHLm9d8Ek6La7NwxtzSd_YLK22Mw4b1q8YgaoA8QKk8ro-hrEXkJwaoHkorvZXSCsp2Qr3lkvaE7ji3A/p.jpeg?size=2048x1536&size_mode=3\" alt=\"Drawing\" style=\"width: 570px;\"/></center>\n",
    "\n",
    "Equipment: \n",
    "\n",
    "1. Moka Pot; \n",
    "\n",
    "2. Milk frother (or a french press).\n",
    "\n",
    "\n",
    "Ingredients:\n",
    "\n",
    "1. 2 Tbsp of ground coffee (pick coffee grinds for espresso, regular coffee will result in an unpleasantly bitter shot);\n",
    "\n",
    "2. 1/2 cup hot water;\n",
    "\n",
    "3. 1/4 cup half and half cream;\n",
    "\n",
    "4. 1/4 cup of milk.\n",
    "\n",
    "Optional: a shot of Baileys, Amarula or any other cream liqueur.\n",
    "\n",
    "Process:\n",
    "\n",
    "1. Prepare 1 to 2 shots of espresso. Credit to [Chef Steps on how to make great coffee using a Moka Pot](https://www.youtube.com/watch?v=rpyBYuu-wJI). This is the recipe I follow;\n",
    "\n",
    "2. Mix the cream and milk and warm up using either a stove or microwave - ensure the mix does not boil;\n",
    "\n",
    "3. Froth the milk to your preference;\n",
    "\n",
    "4. In a glass cup, pour your shot, followed by hot water (add cream liqueur after this). Top with frothed cream and milk. \n",
    "\n",
    "You can substitute espresso for matcha green tea, and it's delicious!"
   ]
  },
  {
   "cell_type": "markdown",
   "metadata": {
    "slideshow": {
     "slide_type": "subslide"
    }
   },
   "source": [
    "<h2 align='center'>Slow cooked lentil soup</h2>\n",
    "\n",
    "<center><img src=\"https://previews.dropbox.com/p/thumb/ABAx2BlVI8o-kejRnmot0Sb4NKfEWIzGQEpuaIti7zAqfMa15oAbSDalC_cNMru88GTovEWICKXl7uql-oCj1z8XLWhZLYiI8J2ANdHFqbGw2E9etUjAYsYcNCuBZs7eyI43K7UBPImv5BqwZCCwQUEX6Ny8NrI61eXzEx_5ju41SsybDQc5l-3jK7SL6FB0lGkRKqS4Xo7Ar1tgA7smfwEWB5f4h8vLzb7eicFqnvkwfVEbnJxRIvHcgTUH6JPym3Wyu-xPpLe9YiUXCKjN3WRlddFvrAIrZw2c_H9CMUJ1mjF6UpDhgPi2gxCrsGMtl_P3PZ6RAR0pX7pGg4LHuczrS8dF8g_TLs-jYNJeszBsnct4l9iMkp3MZRzfb25nfSCR5fNBCkNybVH1ha2siuemphMgSirRjk1kG69yG7_5fQ/p.jpeg?fv_content=true&size_mode=5\" alt=\"Drawing\" style=\"width: 570px;\"/></center>\n",
    "\n",
    "Equipment:\n",
    "\n",
    "- Slow cooker\n",
    "\n",
    "Ingredients:\n",
    "\n",
    "- 2 cloves of garlic, minced;\n",
    "\n",
    "- 1/2 onion, minced;\n",
    "\n",
    "- 1 tsp grated ginger;\n",
    "\n",
    "- 1 tsp ground cumin;\n",
    "\n",
    "- 1 tsp brown sugar;\n",
    "\n",
    "- 1 tsp salt;\n",
    "\n",
    "- 3 cups split red lentils;\n",
    "\n",
    "- 2 cups coconut milk;\n",
    "\n",
    "- 1 cup tomato sauce;\n",
    "\n",
    "- 4-6 cups of water (depending on how runny you want the soup).\n",
    "\n",
    "Process:\n",
    "\n",
    "Place all ingredients in the slow cooker. Mix thoroughly. Cook for 12 hours (low heat).\n",
    "\n",
    "Serve with toast."
   ]
  },
  {
   "cell_type": "markdown",
   "metadata": {
    "slideshow": {
     "slide_type": "subslide"
    }
   },
   "source": [
    "<h2 align='center'>Zucchini Pancakes</h2>\n",
    "\n",
    "<center><img src=\"https://www.skinnytaste.com/wp-content/uploads/2008/07/zucchini-pancakes.jpg\" alt=\"Drawing\" style=\"width: 1150px;\"/></center>\n",
    "\n",
    "Equipment:\n",
    "\n",
    "- Pan;\n",
    "- Stove;\n",
    "- Measuring cup or ladle.\n",
    "\n",
    "Ingredients:\n",
    "\n",
    "- 4 medium zucchinis, grated;\n",
    "- 1/2 onion, minced;\n",
    "- 2 eggs;\n",
    "- 1/2 cup pancake mix;\n",
    "- Salt and pepper to taste;\n",
    "- 1/3 stick of butter;\n",
    "- Olive oil (as needed).\n",
    "\n",
    "Process:\n",
    "\n",
    "Mix zucchinis, onion, eggs, pancake mix, salt and pepper in a bowl. Heat a pan. Cut butter into thin slices. Take one slice of butter and melt it in the pan. Add a tablespoon of oil. Using a measuring cup or a ladle, pour mix into pan and let cook for 8 minutes. Flip and cook the other side for 8 minutes.\n",
    "\n",
    "Optional: serve with sliced avocado and lox.\n"
   ]
  },
  {
   "cell_type": "markdown",
   "metadata": {
    "slideshow": {
     "slide_type": "subslide"
    }
   },
   "source": [
    "<h2 align='center'>Hash browns</h2>\n",
    "\n",
    "<center><img src=\"https://previews.dropbox.com/p/thumb/ABCedY2gQDJh_kwcwBAYCBpnCzk0DeWa_eVvFcZRWo1r-LPfJOg2b_zIQg4iF1sLYTFFRHp2zJAmRTsC3omTxxJBRBAK446BqERlE98Hh2g-RsX43V5Uutue7Z9A7RDEswz2IU8m1N0WwdnCvavzImVn0JnSbjjoCEd1bLNIaG5mdHW2pZj0LRksIahZQj8Eh7alyk4EQCC2tBCl_SXlygx_AobNllwiaEiv686of-ujPjM4dQHVKGQPrRum-1bOPGkF5uE6vkhXnLvzFrQqDwQBp5v91vZvnVhagU9bHmt5ElxYnCUGn78gQXC_Xpcl4JG6uWE3KBz2GEQkiAPzyHYNDeUAZE6mn_t1FbprF5IBUQacGYae7_6PnzW089BrkSFDjF5x4vXeSsDYfLwcVPSpXeKWnxBIvAbL7E8scB_Ln-wMKvlo4WrJUFcLM2RJ9rY/p.jpeg?fv_content=true&size_mode=5\" alt=\"Drawing\" style=\"width: 1050px;\"/></center>\n",
    "\n",
    "Equipment:\n",
    "\n",
    "- Waffle maker (bonus if it comes with a grill);\n",
    "\n",
    "\n",
    "Ingredients:\n",
    "\n",
    "1. 1 large potato, grated;\n",
    "\n",
    "2. 1/4 onion, minced;\n",
    "\n",
    "3. 1 tsp cumin;\n",
    "\n",
    "4. 1/4 cup grated cheese;\n",
    "\n",
    "5. Salt and pepper to taste.\n",
    "\n",
    "\n",
    "Process:\n",
    "\n",
    "After grating potato, make sure to press it on paper towels to remove liquid. Do not rinse. Mix grated potato, onion, cumin, cheese, salt and pepper. Preheat the waffle maker according to instructions.\n",
    "\n",
    "Evenly distribute mix over the waffle maker and cook for 15 minutes (or until golden brown).\n",
    "\n",
    "Optional: serve with poached eggs and bacon.\n"
   ]
  },
  {
   "cell_type": "markdown",
   "metadata": {
    "slideshow": {
     "slide_type": "subslide"
    }
   },
   "source": [
    "<h2 align='center'>Lamb shank stew</h2>\n",
    "\n",
    "<center><img src=\"https://www.simplyrecipes.com/wp-content/uploads/2009/01/lam-shank-stew-orig-horiz-1200.jpg\" alt=\"Drawing\" style=\"width: 1150px;\"/></center>\n",
    "\n",
    "Equipment:\n",
    "\n",
    "- Pot\n",
    "\n",
    "\n",
    "Ingredients:\n",
    "\n",
    "- 4 medium potatoes;\n",
    "\n",
    "- 4 carrots;\n",
    "\n",
    "- 1 cup broccoli;\n",
    "\n",
    "- 2 bell peppers;\n",
    "\n",
    "- 1 1/2 medium onion;\n",
    "\n",
    "- 4 garlic cloves;\n",
    "\n",
    "- 2 medium lamb shanks;\n",
    "\n",
    "- Basil leaves;\n",
    "\n",
    "- 3 tbsp olive oil;\n",
    "\n",
    "- 2 cans crushed tomatoes (or tomato sauce);\n",
    "\n",
    "- 1 tbsp salt. \n",
    "\n",
    "\n",
    "\n",
    "\n",
    "Process:\n",
    "\n",
    "Chop potatoes, carrots and bell peppers into cubes.\n",
    "\n",
    "Heat up the pot on medium heat and pour olive oil. Mince 1 onion and 2 garlic cloves. Add minced onion and garlic and stir until golden. Blend crushed tomatoes, 1/2 onion, 2 garlic cloves, basil leaves and salt. Pour half of the mix into the pot. Add lamb shanks. Cover with vegetables. Pour the remaining tomato mix. Cook on medium heat for 3 to 3.5 hours.\n",
    "\n",
    "Remove excess fat from broth. Take out shanks from stew. Remove meat from bones and chop into bite-sized pieces. Mix meat with stew.\n",
    "\n",
    "Optional: serve with bread.\n"
   ]
  }
 ],
 "metadata": {
  "celltoolbar": "Slideshow",
  "kernelspec": {
   "display_name": "Python 3",
   "language": "python",
   "name": "python3"
  },
  "language_info": {
   "codemirror_mode": {
    "name": "ipython",
    "version": 3
   },
   "file_extension": ".py",
   "mimetype": "text/x-python",
   "name": "python",
   "nbconvert_exporter": "python",
   "pygments_lexer": "ipython3",
   "version": "3.8.6"
  }
 },
 "nbformat": 4,
 "nbformat_minor": 4
}
